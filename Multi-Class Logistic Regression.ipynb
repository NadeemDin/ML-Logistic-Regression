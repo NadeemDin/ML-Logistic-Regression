{
 "cells": [
  {
   "cell_type": "markdown",
   "id": "adbd3f20",
   "metadata": {},
   "source": [
    "# Multi-Class Logistic Regression"
   ]
  },
  {
   "cell_type": "markdown",
   "id": "11aa6c9b",
   "metadata": {},
   "source": [
    "Pretty much same method as binary logistic regression.\n",
    "\n",
    "## Data\n",
    "\n",
    "Classic Iris Data Set. multivariate data set introduced by Ronald Fisher in  1936 as an example of linear discriminant analysis.\n",
    "\n",
    "Full Details: https://en.wikipedia.org/wiki/Iris_flower_data_set"
   ]
  },
  {
   "cell_type": "code",
   "execution_count": null,
   "id": "2cbff9ff",
   "metadata": {},
   "outputs": [],
   "source": []
  }
 ],
 "metadata": {
  "kernelspec": {
   "display_name": "Python 3 (ipykernel)",
   "language": "python",
   "name": "python3"
  },
  "language_info": {
   "codemirror_mode": {
    "name": "ipython",
    "version": 3
   },
   "file_extension": ".py",
   "mimetype": "text/x-python",
   "name": "python",
   "nbconvert_exporter": "python",
   "pygments_lexer": "ipython3",
   "version": "3.9.13"
  }
 },
 "nbformat": 4,
 "nbformat_minor": 5
}
