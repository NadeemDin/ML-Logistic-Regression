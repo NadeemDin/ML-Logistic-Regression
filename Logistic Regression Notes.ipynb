{
 "cells": [
  {
   "cell_type": "markdown",
   "id": "1ed6ba2a",
   "metadata": {},
   "source": [
    "# Logistic Regression\n",
    "Smilar to linear regression but for predicting a categorical target label. / \n",
    "Logistic Regression - Classification Algorithm"
   ]
  },
  {
   "cell_type": "code",
   "execution_count": 1,
   "id": "ea6b1ded",
   "metadata": {},
   "outputs": [],
   "source": [
    "# INTERPRETING RESULTS:\n",
    "# - Odds ratio and coefficients\n",
    "# - Classification Metrics (Accuracy, Precision, Recall)\n",
    "# - ROC CURVES"
   ]
  },
  {
   "cell_type": "code",
   "execution_count": 2,
   "id": "3c90ed1f",
   "metadata": {},
   "outputs": [],
   "source": [
    "#Classification algo's produce probability prediciton metric of how probable it is for input to match label\n",
    "#Classification algos, use a variety of different error metrics and methods of performance evaluation."
   ]
  },
  {
   "cell_type": "code",
   "execution_count": 3,
   "id": "51f265b6",
   "metadata": {},
   "outputs": [],
   "source": [
    "#Transformation of linear regression into classification model using a logistic function - aka sigmoid function\n",
    "#used in statistical modelling as things seem to have a limiting factor and shows some sort of levelling off when\n",
    "#...graph of function is plot"
   ]
  },
  {
   "cell_type": "code",
   "execution_count": 2,
   "id": "07812db6",
   "metadata": {},
   "outputs": [],
   "source": [
    "#transforming linear regression using the logistic function to allow for a more categorical fit of a y-label\n",
    "#... rather than somewhere inbetween two values like a continous label\n",
    "#LOGISTIC FUNCTION TRANSFORMS AND INPUT TO BE BETWEEN 0 AND 1"
   ]
  },
  {
   "cell_type": "code",
   "execution_count": 3,
   "id": "bbb59aaf",
   "metadata": {},
   "outputs": [],
   "source": [
    "#setting of cut off points between labels to ensure labelling is categorical and not continuous  \n",
    "#cut off point basically introduces probability into the y axis/ model."
   ]
  },
  {
   "cell_type": "code",
   "execution_count": 4,
   "id": "00fa1ce2",
   "metadata": {},
   "outputs": [],
   "source": [
    "#Mathematics to convert from linear regression to logistic. \n",
    "#ISLR Section 4.3\n",
    "#Y-hat linear regression equation INTO logistic function to create Logistic Regression\n",
    "#Logistic regression equation, coefficient in denominator - shows non linear relationship\n",
    "#... employ natural logs to get better relationship for interpretation???"
   ]
  },
  {
   "cell_type": "code",
   "execution_count": 5,
   "id": "1f1bc777",
   "metadata": {},
   "outputs": [],
   "source": [
    "# Term : ODDS\n",
    "#probability of something happening vs it not happening.\n",
    "#1 to 1 is 50% probaility. \n",
    "# probability of it happening / 1 - probability of it happening \n",
    "\n",
    "#wil allow us to solve for coefficients and feature x in terms of log ODDS.\n",
    "\n",
    "# ln(yhat/1-yhat) = Sum of Betacoefficients*feature"
   ]
  },
  {
   "cell_type": "code",
   "execution_count": 6,
   "id": "ea2f0dc4",
   "metadata": {},
   "outputs": [],
   "source": [
    "# apply log odds ln(yhat/1-yhat) to y axis, allows for conversion of cuve log function curve into a line\n",
    "#... coefficients now in terms of log odds - no linear relationship between x and y "
   ]
  },
  {
   "cell_type": "code",
   "execution_count": 8,
   "id": "c90ae8c4",
   "metadata": {},
   "outputs": [],
   "source": [
    "#positive beta coefficients indicates increase in probability of belonging to a class with increase in associated x feature.\n",
    "#Negative beta coefficients inficates DECREASE in probability of belonging to a class with INCREASE in associated x feature."
   ]
  },
  {
   "cell_type": "code",
   "execution_count": 9,
   "id": "e7975f34",
   "metadata": {},
   "outputs": [],
   "source": [
    "#MAGNITUDE OF COEFFICIENTS\n",
    "#compare magnitudes of coefficients against eachother for insight over which features have strongest effect on prediction output"
   ]
  },
  {
   "cell_type": "code",
   "execution_count": 10,
   "id": "02e97c70",
   "metadata": {},
   "outputs": [],
   "source": [
    "#normally we'd fit curve using residual sum of squares like we do in linear regression but cant do that with logistic regression\n",
    "#... use of something called best fit with maximum likelihood"
   ]
  },
  {
   "cell_type": "code",
   "execution_count": 11,
   "id": "2ef59bec",
   "metadata": {},
   "outputs": [],
   "source": [
    "#BEST FIT MAXIMUM LIKELIHOOD TO FIND BEST FITTING MODEL\n",
    "#ISLR 4.3.2\n",
    "#MATHEMATICAL THEORY IS BEYOND SCOPE OF BOOK"
   ]
  },
  {
   "cell_type": "markdown",
   "id": "e89876f0",
   "metadata": {},
   "source": [
    "# LOGISTIC REGRESSION WITH SCIKIT-LEARN"
   ]
  },
  {
   "cell_type": "code",
   "execution_count": 13,
   "id": "73220346",
   "metadata": {},
   "outputs": [],
   "source": [
    "import numpy as np\n",
    "import matplotlib.pyplot as plt\n",
    "import pandas as pd\n",
    "import seaborn as sns\n"
   ]
  },
  {
   "cell_type": "markdown",
   "id": "e72d6651",
   "metadata": {},
   "source": [
    "## Data\n",
    "\n",
    "An experiment was conducted on 5000 participants to study the effects of age and physical health on hearing loss, specifically the ability to hear high pitched tones. This data displays the result of the study in which participants were evaluated and scored for physical ability and then had to take an audio test (pass/no pass) which evaluated their ability to hear high frequencies. The age of the user was also noted. Is it possible to build a model that would predict someone's liklihood to hear the high frequency sound based solely on their features (age and physical score)?\n",
    "\n",
    "* Features\n",
    "\n",
    "    * age - Age of participant in years\n",
    "    * physical_score - Score achieved during physical exam\n",
    "\n",
    "* Label/Target\n",
    "\n",
    "    * test_result - 0 if no pass, 1 if test passed"
   ]
  },
  {
   "cell_type": "code",
   "execution_count": null,
   "id": "dc133f6e",
   "metadata": {},
   "outputs": [],
   "source": [
    "df = pd.read_csv()"
   ]
  }
 ],
 "metadata": {
  "kernelspec": {
   "display_name": "Python 3 (ipykernel)",
   "language": "python",
   "name": "python3"
  },
  "language_info": {
   "codemirror_mode": {
    "name": "ipython",
    "version": 3
   },
   "file_extension": ".py",
   "mimetype": "text/x-python",
   "name": "python",
   "nbconvert_exporter": "python",
   "pygments_lexer": "ipython3",
   "version": "3.9.13"
  }
 },
 "nbformat": 4,
 "nbformat_minor": 5
}
