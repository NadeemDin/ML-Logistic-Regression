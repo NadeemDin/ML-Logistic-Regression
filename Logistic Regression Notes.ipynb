{
 "cells": [
  {
   "cell_type": "markdown",
   "id": "1ed6ba2a",
   "metadata": {},
   "source": [
    "# Logistic Regression\n",
    "Smilar to linear regression but for predicting a categorical target label. / \n",
    "Logistic Regression - Classification Algorithm"
   ]
  },
  {
   "cell_type": "code",
   "execution_count": 1,
   "id": "ea6b1ded",
   "metadata": {},
   "outputs": [],
   "source": [
    "# INTERPRETING RESULTS:\n",
    "# - Odds ratio and coefficients\n",
    "# - Classification Metrics (Accuracy, Precision, Recall)\n",
    "# - ROC CURVES"
   ]
  },
  {
   "cell_type": "code",
   "execution_count": 2,
   "id": "3c90ed1f",
   "metadata": {},
   "outputs": [],
   "source": [
    "#Classification algo's produce probability prediciton metric of how probable it is for input to match label\n",
    "#Classification algos, use a variety of different error metrics and methods of performance evaluation."
   ]
  },
  {
   "cell_type": "code",
   "execution_count": 3,
   "id": "51f265b6",
   "metadata": {},
   "outputs": [],
   "source": [
    "#Transformation of linear regression into classification model using a logistic function - aka sigmoid function\n",
    "#used in statistical modelling as things seem to have a limiting factor and shows some sort of levelling off when\n",
    "#...graph of function is plot"
   ]
  },
  {
   "cell_type": "code",
   "execution_count": 4,
   "id": "07812db6",
   "metadata": {},
   "outputs": [],
   "source": [
    "#transforming linear regression using the logistic function to allow for a more categorical fit of a y-label\n",
    "#... rather than somewhere inbetween two values like a continous label"
   ]
  },
  {
   "cell_type": "code",
   "execution_count": null,
   "id": "bbb59aaf",
   "metadata": {},
   "outputs": [],
   "source": [
    "#setting of cut off points between labels to ensure labelling is categorical and not continous \n",
    "#cut off point basically introduces probability into the y axis/ model."
   ]
  }
 ],
 "metadata": {
  "kernelspec": {
   "display_name": "Python 3 (ipykernel)",
   "language": "python",
   "name": "python3"
  },
  "language_info": {
   "codemirror_mode": {
    "name": "ipython",
    "version": 3
   },
   "file_extension": ".py",
   "mimetype": "text/x-python",
   "name": "python",
   "nbconvert_exporter": "python",
   "pygments_lexer": "ipython3",
   "version": "3.9.13"
  }
 },
 "nbformat": 4,
 "nbformat_minor": 5
}
