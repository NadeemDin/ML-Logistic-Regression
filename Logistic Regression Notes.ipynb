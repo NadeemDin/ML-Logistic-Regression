{
 "cells": [
  {
   "cell_type": "markdown",
   "id": "1ed6ba2a",
   "metadata": {},
   "source": [
    "# Logistic Regression\n",
    "Smilar to linear regression but for predicting a categorical target label. / \n",
    "Logistic Regression - Classification Algorithm"
   ]
  },
  {
   "cell_type": "code",
   "execution_count": 1,
   "id": "ea6b1ded",
   "metadata": {},
   "outputs": [],
   "source": [
    "# INTERPRETING RESULTS:\n",
    "# - Odds ratio and coefficients\n",
    "# - Classification Metrics (Accuracy, Precision, Recall)\n",
    "# - ROC CURVES"
   ]
  },
  {
   "cell_type": "code",
   "execution_count": 2,
   "id": "3c90ed1f",
   "metadata": {},
   "outputs": [],
   "source": [
    "#Classification algo's produce probability prediciton metric of how probable it is for input to match label\n",
    "#Classification algos, use a variety of different error metrics and methods of performance evaluation."
   ]
  },
  {
   "cell_type": "code",
   "execution_count": 3,
   "id": "51f265b6",
   "metadata": {},
   "outputs": [],
   "source": [
    "#Transformation of linear regression into classification model using a logistic function - aka sigmoid function\n",
    "#used in statistical modelling as things seem to have a limiting factor and shows some sort of levelling off when\n",
    "#...graph of function is plot"
   ]
  },
  {
   "cell_type": "code",
   "execution_count": 2,
   "id": "07812db6",
   "metadata": {},
   "outputs": [],
   "source": [
    "#transforming linear regression using the logistic function to allow for a more categorical fit of a y-label\n",
    "#... rather than somewhere inbetween two values like a continous label\n",
    "#LOGISTIC FUNCTION TRANSFORMS AND INPUT TO BE BETWEEN 0 AND 1"
   ]
  },
  {
   "cell_type": "code",
   "execution_count": 3,
   "id": "bbb59aaf",
   "metadata": {},
   "outputs": [],
   "source": [
    "#setting of cut off points between labels to ensure labelling is categorical and not continuous  \n",
    "#cut off point basically introduces probability into the y axis/ model."
   ]
  },
  {
   "cell_type": "code",
   "execution_count": 4,
   "id": "2997395f",
   "metadata": {},
   "outputs": [],
   "source": [
    "#Mathematics to convert from linear regression to logistic. \n",
    "#ISLR Section 4.3\n",
    "#Y-hat linear regression equation INTO logistic function to create Logistic Regression\n",
    "#Logistic regression equation, coefficient in denominator - shows non linear relationship\n",
    "#... employ natural logs to get better relationship for interpretation???"
   ]
  },
  {
   "cell_type": "code",
   "execution_count": 5,
   "id": "f6959ee7",
   "metadata": {},
   "outputs": [],
   "source": [
    "# Term : ODDS\n",
    "#probability of something happening vs it not happening.\n",
    "#1 to 1 is 50% probaility. \n",
    "# probability of it happening / 1 - probability of it happening \n",
    "\n",
    "#wil allow us to solve for coefficients and feature x in terms of log ODDS.\n",
    "\n",
    "# ln(yhat/1-yhat) = Sum of Betacoefficients*feature"
   ]
  },
  {
   "cell_type": "code",
   "execution_count": null,
   "id": "1e2fb0cf",
   "metadata": {},
   "outputs": [],
   "source": []
  }
 ],
 "metadata": {
  "kernelspec": {
   "display_name": "Python 3 (ipykernel)",
   "language": "python",
   "name": "python3"
  },
  "language_info": {
   "codemirror_mode": {
    "name": "ipython",
    "version": 3
   },
   "file_extension": ".py",
   "mimetype": "text/x-python",
   "name": "python",
   "nbconvert_exporter": "python",
   "pygments_lexer": "ipython3",
   "version": "3.9.13"
  }
 },
 "nbformat": 4,
 "nbformat_minor": 5
}
